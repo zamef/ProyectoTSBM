{
 "cells": [
  {
   "cell_type": "markdown",
   "id": "2ae5a5d5",
   "metadata": {},
   "source": [
    "### **Optimización de hiperparámetros**\n",
    "\n",
    "Este notebook tiene como único propósito la optimización de hiperparámetros para su aplicación en nuestro RandomForest, y posiblemente obtener mejores resultados. Los métodos utilizados son muy exigentes computacionalmente, es por ello que se realiza este proceso en un notebook diferente, para hacerlo una vez."
   ]
  },
  {
   "cell_type": "code",
   "execution_count": 9,
   "id": "b2bce4b4",
   "metadata": {},
   "outputs": [],
   "source": [
    "#librerias necesarias\n",
    "import numpy as np\n",
    "import pandas as pd\n",
    "import matplotlib.pyplot as plt\n",
    "import seaborn as sns\n",
    "from sklearn import preprocessing\n",
    "from sklearn.feature_selection import VarianceThreshold\n",
    "from sklearn.preprocessing import LabelEncoder, StandardScaler\n",
    "from sklearn.model_selection import train_test_split\n",
    "from sklearn.ensemble import RandomForestClassifier\n",
    "from sklearn.metrics import classification_report, accuracy_score, confusion_matrix, precision_score, recall_score\n",
    "from sklearn.decomposition import PCA\n",
    "from sklearn.feature_selection import SelectKBest, f_classif, mutual_info_regression, mutual_info_classif\n",
    "from sklearn.model_selection import GridSearchCV\n",
    "from sklearn.model_selection import RandomizedSearchCV\n",
    "from scipy.stats import randint"
   ]
  },
  {
   "cell_type": "code",
   "execution_count": 10,
   "id": "947ceead",
   "metadata": {},
   "outputs": [],
   "source": [
    "#lectura de datos\n",
    "data = pd.read_csv(r\"Datos/dataset.csv\")\n",
    "labels = pd.read_csv(r\"Datos/labels.csv\")"
   ]
  },
  {
   "cell_type": "markdown",
   "id": "836cc897",
   "metadata": {},
   "source": [
    "#### **Manipulación de datos**\n",
    "Pues es básicamente una copia de lo que hice en el notebook del proyecto, solo es para tener el mismo dataframe al momento de hacer el GridSearch y RandomSearch."
   ]
  },
  {
   "cell_type": "code",
   "execution_count": 15,
   "id": "4679bbe1",
   "metadata": {},
   "outputs": [],
   "source": [
    "data_limpio = data.copy(deep=True)\n",
    "data_limpio.drop('En.Anterior.', inplace=True, axis=1)\n",
    "\n",
    "var_thr = VarianceThreshold(threshold = 0.01)\n",
    "\n",
    "var_thr.fit(data_limpio.iloc[:,2: ])\n",
    "var_thr.get_support()\n",
    "concol = [column for column in data_limpio.iloc[:,2: ].columns \n",
    "          if column not in data_limpio.iloc[:,2: ].columns[var_thr.get_support()]]\n",
    "\n",
    "\n",
    "data_limpio.drop(concol, inplace=True, axis=1)\n",
    "data_numeric = pd.get_dummies(data['idEye'])\n",
    "data_num = pd.concat([data , data_numeric], axis=1).reindex(data.index)\n",
    "data_num.drop(columns=['idEye', 'En.Anterior.'], axis=1, inplace=True)\n",
    "\n",
    "le = LabelEncoder()\n",
    "data_le = data_limpio.copy(deep = True)\n",
    "label = le.fit_transform(data_le['idEye'].values)\n",
    "data_le.drop('idEye', axis=1, inplace=True)\n",
    "data_le['idEye'] = label\n",
    "\n",
    "X =data_le.iloc[:,2:].values\n",
    "y= labels.iloc[:,-1].values\n",
    "\n",
    "for i in range(X.shape[1]):\n",
    "    X[:,i] = le.fit_transform(X[:,i])\n",
    "y = le.fit_transform(y)\n",
    "\n",
    "standard_scaler = StandardScaler()\n",
    "\n",
    "X = standard_scaler.fit_transform(X)\n",
    "classes = np.unique(y)\n",
    "nClasses = len(classes)\n",
    "\n",
    "X_train, X_test, y_train, y_test = train_test_split(X,y,train_size=0.85,random_state=42)"
   ]
  },
  {
   "cell_type": "markdown",
   "id": "c510a3a8",
   "metadata": {},
   "source": [
    "#### **Hiperparámetros del RandomForest**\n",
    "\n",
    "<!-- Para la optimización se utilizarán dos métodos distintos, que son muy parecidos. Esto no es tan necesario, pero si ayuda a sacar algo mas de rendimiento o precisión en nuestro modelo. -->\n",
    "\n",
    "##### - **GridSearch**\n",
    "Consiste en básicamente buscar combinaciones de parámetros de manera controlada, para así encontrar los valores que mejor se ajusten al modelo que estamos utilizando.\n",
    "##### - **RandomSearch**\n",
    "Nuevamente realiza distintas combinaciones de parámetros, ahora de manera aleatoria, a partir de ciertas iteraciones y dentro del rango de los parámetros que le pongamos."
   ]
  },
  {
   "cell_type": "code",
   "execution_count": 13,
   "id": "aea00764",
   "metadata": {},
   "outputs": [
    {
     "name": "stdout",
     "output_type": "stream",
     "text": [
      "Fitting 5 folds for each of 432 candidates, totalling 2160 fits\n",
      "Parámetros: {'max_depth': None, 'max_features': 'sqrt', 'min_samples_leaf': 1, 'min_samples_split': 2, 'n_estimators': 400}\n"
     ]
    }
   ],
   "source": [
    "param_grid = {\n",
    "    'n_estimators': (200, 300, 400, 500, 600, 700),\n",
    "    'max_depth': [5, 10, 20, None],\n",
    "    'min_samples_split': [2, 5, 10],\n",
    "    'min_samples_leaf': [1, 2, 4],\n",
    "    'max_features': ['sqrt', 'log2']\n",
    "}\n",
    "\n",
    "rf = RandomForestClassifier(random_state=None)\n",
    "grid_search = GridSearchCV(estimator=rf, param_grid=param_grid, \n",
    "                          cv=5, n_jobs=-1, verbose=2)\n",
    "grid_search.fit(X_train, y_train)\n",
    "\n",
    "print(\"Parámetros:\", grid_search.best_params_)\n",
    "best_model1 = grid_search.best_estimator_"
   ]
  },
  {
   "cell_type": "code",
   "execution_count": 14,
   "id": "881f9aa0",
   "metadata": {},
   "outputs": [
    {
     "name": "stdout",
     "output_type": "stream",
     "text": [
      "Fitting 5 folds for each of 100 candidates, totalling 500 fits\n",
      "Parámetros: {'bootstrap': False, 'max_depth': 105, 'max_features': 'sqrt', 'min_samples_leaf': 4, 'min_samples_split': 7, 'n_estimators': 693}\n"
     ]
    }
   ],
   "source": [
    "param_dist = {\n",
    "    'n_estimators': randint(200, 700),\n",
    "    'max_depth': randint(0, 110),\n",
    "    'min_samples_split': randint(2, 11),\n",
    "    'min_samples_leaf': randint(1, 5),\n",
    "    'max_features': ['sqrt', 'log2', None],\n",
    "    'bootstrap': [True, False]\n",
    "}\n",
    "\n",
    "rf = RandomForestClassifier(random_state=None)\n",
    "random_search = RandomizedSearchCV(rf, param_distributions=param_dist,\n",
    "                                 n_iter=100, cv=5, n_jobs=-1, verbose=2)\n",
    "random_search.fit(X_train, y_train)\n",
    "\n",
    "print(\"Parámetros:\", random_search.best_params_)\n",
    "best_model2 = random_search.best_estimator_"
   ]
  }
 ],
 "metadata": {
  "kernelspec": {
   "display_name": ".venv",
   "language": "python",
   "name": "python3"
  },
  "language_info": {
   "codemirror_mode": {
    "name": "ipython",
    "version": 3
   },
   "file_extension": ".py",
   "mimetype": "text/x-python",
   "name": "python",
   "nbconvert_exporter": "python",
   "pygments_lexer": "ipython3",
   "version": "3.13.2"
  }
 },
 "nbformat": 4,
 "nbformat_minor": 5
}
