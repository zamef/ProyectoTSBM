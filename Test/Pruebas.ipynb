{
 "cells": [
  {
   "cell_type": "code",
   "execution_count": 85,
   "id": "0f6f8caa",
   "metadata": {},
   "outputs": [],
   "source": [
    "#librerias necesarias\n",
    "import numpy as np\n",
    "import pandas as pd\n",
    "import matplotlib.pyplot as plt\n",
    "import seaborn as sns\n",
    "from sklearn import preprocessing\n",
    "from sklearn.feature_selection import VarianceThreshold\n",
    "from sklearn.preprocessing import LabelEncoder, StandardScaler\n",
    "from sklearn.model_selection import train_test_split\n",
    "from sklearn.ensemble import RandomForestClassifier\n",
    "from sklearn.metrics import classification_report, accuracy_score, confusion_matrix, precision_score, recall_score\n",
    "from sklearn.decomposition import PCA\n",
    "from sklearn.feature_selection import SelectKBest, f_classif, mutual_info_regression, mutual_info_classif\n",
    "from sklearn.model_selection import GridSearchCV\n",
    "from sklearn.model_selection import RandomizedSearchCV\n",
    "from scipy.stats import randint"
   ]
  },
  {
   "cell_type": "code",
   "execution_count": 86,
   "id": "d65c3f3f",
   "metadata": {},
   "outputs": [],
   "source": [
    "#lectura de datos\n",
    "data = pd.read_csv(r\"Datos/dataset.csv\")\n",
    "labels = pd.read_csv(r\"Datos/labels.csv\")"
   ]
  },
  {
   "cell_type": "code",
   "execution_count": 87,
   "id": "f8523c35",
   "metadata": {},
   "outputs": [],
   "source": [
    "data_limpio = data.copy(deep=True)\n",
    "data_limpio.drop('En.Anterior.', inplace=True, axis=1)\n",
    "\n",
    "var_thr = VarianceThreshold(threshold = 0.01)\n",
    "\n",
    "var_thr.fit(data_limpio.iloc[:,2: ])\n",
    "var_thr.get_support()\n",
    "concol = [column for column in data_limpio.iloc[:,2: ].columns \n",
    "          if column not in data_limpio.iloc[:,2: ].columns[var_thr.get_support()]]\n",
    "\n",
    "\n",
    "data_limpio.drop(concol, inplace=True, axis=1)\n",
    "data_numeric = pd.get_dummies(data['idEye'])\n",
    "data_num = pd.concat([data , data_numeric], axis=1).reindex(data.index)\n",
    "data_num.drop(columns=['idEye', 'En.Anterior.'], axis=1, inplace=True)\n",
    "\n",
    "le = LabelEncoder()\n",
    "data_le = data_limpio.copy(deep = True)\n",
    "label = le.fit_transform(data_le['idEye'].values)\n",
    "data_le.drop('idEye', axis=1, inplace=True)\n",
    "data_le['idEye'] = label\n",
    "\n",
    "X =data_le.iloc[:,2:].values\n",
    "y= labels.iloc[:,-1].values\n",
    "\n",
    "for i in range(X.shape[1]):\n",
    "    X[:,i] = le.fit_transform(X[:,i])\n",
    "y = le.fit_transform(y)\n",
    "\n",
    "standard_scaler = StandardScaler()\n",
    "\n",
    "X = standard_scaler.fit_transform(X)\n",
    "classes = np.unique(y)\n",
    "nClasses = len(classes)\n",
    "\n",
    "X_train, X_test, y_train, y_test = train_test_split(X,y,train_size=0.80,random_state=42)"
   ]
  },
  {
   "cell_type": "markdown",
   "id": "50148f41",
   "metadata": {},
   "source": [
    "### **Entrenamiento**"
   ]
  },
  {
   "cell_type": "markdown",
   "id": "52020058",
   "metadata": {},
   "source": [
    "Entrenamos un modelo sencillo, con nuestro dataset ya algo limpio."
   ]
  },
  {
   "cell_type": "code",
   "execution_count": 88,
   "id": "63f5ad5a",
   "metadata": {},
   "outputs": [],
   "source": [
    "trainedforest = RandomForestClassifier(n_estimators=500,\n",
    "                                       random_state = None,\n",
    "                                       n_jobs = -1).fit(X_train,y_train)"
   ]
  },
  {
   "cell_type": "code",
   "execution_count": 89,
   "id": "7245a142",
   "metadata": {},
   "outputs": [
    {
     "name": "stdout",
     "output_type": "stream",
     "text": [
      "              precision    recall  f1-score   support\n",
      "\n",
      "           0       0.93      0.88      0.90        59\n",
      "           1       0.97      0.99      0.98       508\n",
      "           2       0.92      0.77      0.84        43\n",
      "           3       1.00      0.96      0.98        23\n",
      "\n",
      "    accuracy                           0.96       633\n",
      "   macro avg       0.95      0.90      0.92       633\n",
      "weighted avg       0.96      0.96      0.96       633\n",
      "\n"
     ]
    },
    {
     "data": {
      "image/png": "[encoded data removed]",
      "text/plain": [
       "<Figure size 640x480 with 2 Axes>"
      ]
     },
     "metadata": {},
     "output_type": "display_data"
    }
   ],
   "source": [
    "predictionforest = trainedforest.predict(X_test)    #para la inferencia\n",
    "\n",
    "sns.heatmap(confusion_matrix(y_test, predictionforest), annot = True, fmt = 'g')    #Una matriz de confusión, para ver el desempeño\n",
    "print(classification_report(y_test, predictionforest))  #reporte del modelo"
   ]
  },
  {
   "cell_type": "markdown",
   "id": "79ebee61",
   "metadata": {},
   "source": [
    "##### - **Hiperparámetros del RandomForest**\n",
    "Utilizando los paramétros de nuestra optimización, podemos intentar mejorar el modelo"
   ]
  },
  {
   "cell_type": "markdown",
   "id": "a7885900",
   "metadata": {},
   "source": [
    "##### - **GridSearch**"
   ]
  },
  {
   "cell_type": "code",
   "execution_count": 90,
   "id": "01fed4ef",
   "metadata": {},
   "outputs": [],
   "source": [
    "trainedforestGS = RandomForestClassifier(n_estimators=400,\n",
    "                                        min_samples_split= 2,\n",
    "                                        min_samples_leaf= 1,\n",
    "                                        max_features = 'sqrt',\n",
    "                                        max_depth= None,\n",
    "                                        bootstrap= False,\n",
    "                                        random_state = None,\n",
    "                                        n_jobs=-1).fit(X_train,y_train)"
   ]
  },
  {
   "cell_type": "code",
   "execution_count": 91,
   "id": "23e6aa6e",
   "metadata": {},
   "outputs": [
    {
     "name": "stdout",
     "output_type": "stream",
     "text": [
      "              precision    recall  f1-score   support\n",
      "\n",
      "           0       0.93      0.88      0.90        59\n",
      "           1       0.97      0.99      0.98       508\n",
      "           2       0.92      0.77      0.84        43\n",
      "           3       1.00      0.96      0.98        23\n",
      "\n",
      "    accuracy                           0.96       633\n",
      "   macro avg       0.95      0.90      0.92       633\n",
      "weighted avg       0.96      0.96      0.96       633\n",
      "\n"
     ]
    },
    {
     "data": {
      "image/png": "[encoded data removed]",
      "text/plain": [
       "<Figure size 640x480 with 2 Axes>"
      ]
     },
     "metadata": {},
     "output_type": "display_data"
    }
   ],
   "source": [
    "predictionforest1 = trainedforestGS.predict(X_test)\n",
    "\n",
    "sns.heatmap(confusion_matrix(y_test, predictionforest), annot = True, fmt = 'g')\n",
    "print(classification_report(y_test, predictionforest))"
   ]
  },
  {
   "cell_type": "markdown",
   "id": "35eb0f58",
   "metadata": {},
   "source": [
    "##### - **RandomizedSearch**"
   ]
  },
  {
   "cell_type": "code",
   "execution_count": 92,
   "id": "3801bbaa",
   "metadata": {},
   "outputs": [],
   "source": [
    "trainedforestRS = RandomForestClassifier(n_estimators= 693,\n",
    "                                    max_depth= 105,\n",
    "                                    max_features= 'sqrt',\n",
    "                                    min_samples_leaf= 4,\n",
    "                                    min_samples_split=7,\n",
    "                                    bootstrap= False,\n",
    "                                    n_jobs=-1).fit(X_train, y_train)"
   ]
  },
  {
   "cell_type": "code",
   "execution_count": 93,
   "id": "1aad4e10",
   "metadata": {},
   "outputs": [
    {
     "name": "stdout",
     "output_type": "stream",
     "text": [
      "              precision    recall  f1-score   support\n",
      "\n",
      "           0       0.93      0.88      0.90        59\n",
      "           1       0.97      0.99      0.98       508\n",
      "           2       0.92      0.77      0.84        43\n",
      "           3       1.00      0.96      0.98        23\n",
      "\n",
      "    accuracy                           0.96       633\n",
      "   macro avg       0.95      0.90      0.92       633\n",
      "weighted avg       0.96      0.96      0.96       633\n",
      "\n"
     ]
    },
    {
     "data": {
      "image/png": "[encoded data removed]",
      "text/plain": [
       "<Figure size 640x480 with 2 Axes>"
      ]
     },
     "metadata": {},
     "output_type": "display_data"
    }
   ],
   "source": [
    "predictionforest2 = trainedforestRS.predict(X_test) # inferencia\n",
    "\n",
    "sns.heatmap(confusion_matrix(y_test, predictionforest), annot = True, fmt = 'g')    # matriz de confusión\n",
    "print(classification_report(y_test, predictionforest))  # reporte del modelo"
   ]
  },
  {
   "cell_type": "markdown",
   "id": "77c0908c",
   "metadata": {},
   "source": [
    "###  **Mejores variables**"
   ]
  },
  {
   "cell_type": "code",
   "execution_count": 94,
   "id": "d442de6a",
   "metadata": {},
   "outputs": [
    {
     "name": "stdout",
     "output_type": "stream",
     "text": [
      "              Specs     Score\n",
      "87              X.1  0.030974\n",
      "136  Kf.6mm..Axis.1  0.109074\n",
      "160             X.6  0.118163\n",
      "157             X.5  0.172489\n",
      "98     Ks.6mm..Axis  0.243469\n",
      "134  Ks.6mm..Axis.1  0.458998\n",
      "85                X  0.523366\n",
      "202            X.10  0.528028\n",
      "128  Ks.0mm..Axis.1  0.675097\n",
      "415           idEye  0.681758\n",
      "170  Ks.6mm..Axis.2  0.904840\n",
      "342          OffY.1  1.043961\n",
      "209            X.12  1.248340\n",
      "69   Regular.Axis.5  1.347511\n",
      "166  Kf.0mm..Axis.2  1.383071\n",
      "21        Kf.Axis.2  1.545354\n",
      "94     Kf.0mm..Axis  1.678202\n",
      "4           Kf.Axis  1.700406\n",
      "13        Kf.Axis.1  1.700406\n",
      "130  Kf.0mm..Axis.1  1.713013\n",
      "35        LocationX  1.729454\n",
      "215            X.14  1.906511\n",
      "19        Ks.Axis.2  1.928462\n",
      "29        Kf.Axis.3  2.090288\n",
      "63   Regular.Axis.4  2.148663\n",
      "233            X.18  2.165515\n",
      "212            X.13  2.253056\n",
      "341          OffX.1  2.436326\n",
      "227            X.16  2.590206\n",
      "199             X.9  2.662821\n",
      "241        Ecc.4mm.  3.190621\n",
      "289     LocationX.1  3.279508\n",
      "206            X.11  3.393367\n",
      "86                Y  3.432954\n",
      "333            OffX  3.687613\n",
      "230            X.17  3.737301\n",
      "92     Ks.0mm..Axis  4.246483\n",
      "172  Kf.6mm..Axis.2  4.394171\n",
      "224            X.15  4.485704\n",
      "100    Kf.6mm..Axis  4.542210\n",
      "45   Regular.Axis.1  4.756712\n",
      "57   Regular.Axis.3  4.756712\n",
      "75   Regular.Axis.6  5.179615\n",
      "288        Thickest  5.289940\n",
      "121             X.3  5.753440\n",
      "164  Ks.0mm..Axis.2  6.229219\n",
      "2           Ks.Axis  6.537033\n",
      "11        Ks.Axis.1  6.537033\n",
      "36        LocationY  6.541191\n",
      "343     P_Contact.1  6.718585\n"
     ]
    }
   ],
   "source": [
    "standard_scaler = StandardScaler()\n",
    "data_le2 = standard_scaler.fit_transform(data_le)\n",
    "\n",
    "bestfeatures = SelectKBest(score_func = f_classif, k = 10)  # las 10 mejores variables\n",
    "fit = bestfeatures.fit(data_le,y)\n",
    "dfscores = pd.DataFrame(fit.scores_)\n",
    "dfcolumns = pd.DataFrame(data_le.columns)\n",
    "\n",
    "# \n",
    "featureScores = pd.concat([dfcolumns,dfscores],axis=1)\n",
    "featureScores.columns = ['Specs','Score']\n",
    "print(featureScores.nsmallest(50,'Score'))"
   ]
  },
  {
   "cell_type": "code",
   "execution_count": 95,
   "id": "b342f6b0",
   "metadata": {},
   "outputs": [
    {
     "data": {
      "text/html": [
       "<div>\n",
       "<style scoped>\n",
       "    .dataframe tbody tr th:only-of-type {\n",
       "        vertical-align: middle;\n",
       "    }\n",
       "\n",
       "    .dataframe tbody tr th {\n",
       "        vertical-align: top;\n",
       "    }\n",
       "\n",
       "    .dataframe thead th {\n",
       "        text-align: right;\n",
       "    }\n",
       "</style>\n",
       "<table border=\"1\" class=\"dataframe\">\n",
       "  <thead>\n",
       "    <tr style=\"text-align: right;\">\n",
       "      <th></th>\n",
       "      <th>Ks.Axis</th>\n",
       "      <th>Kf</th>\n",
       "      <th>Kf.Axis</th>\n",
       "      <th>AvgK</th>\n",
       "      <th>CYL</th>\n",
       "      <th>AA</th>\n",
       "      <th>Ecc.9.0mm.</th>\n",
       "      <th>ACCP</th>\n",
       "      <th>Ks.1</th>\n",
       "      <th>Ks.Axis.1</th>\n",
       "      <th>...</th>\n",
       "      <th>coma.axis.5</th>\n",
       "      <th>SA.C40..5</th>\n",
       "      <th>S35.coma.like..5</th>\n",
       "      <th>S46.sph..like..5</th>\n",
       "      <th>HOAs.S3456..5</th>\n",
       "      <th>AA.5</th>\n",
       "      <th>ESI.Anterior.</th>\n",
       "      <th>ESI.Posterior.</th>\n",
       "      <th>idEye</th>\n",
       "      <th>labels</th>\n",
       "    </tr>\n",
       "  </thead>\n",
       "  <tbody>\n",
       "    <tr>\n",
       "      <th>0</th>\n",
       "      <td>21</td>\n",
       "      <td>39.22</td>\n",
       "      <td>111</td>\n",
       "      <td>41.87</td>\n",
       "      <td>5.32</td>\n",
       "      <td>86.7</td>\n",
       "      <td>0.91</td>\n",
       "      <td>41.67</td>\n",
       "      <td>49.61</td>\n",
       "      <td>21</td>\n",
       "      <td>...</td>\n",
       "      <td>97</td>\n",
       "      <td>-0.722</td>\n",
       "      <td>3.350</td>\n",
       "      <td>1.053</td>\n",
       "      <td>3.512</td>\n",
       "      <td>99</td>\n",
       "      <td>45</td>\n",
       "      <td>27</td>\n",
       "      <td>1638</td>\n",
       "      <td>0</td>\n",
       "    </tr>\n",
       "    <tr>\n",
       "      <th>1</th>\n",
       "      <td>39</td>\n",
       "      <td>42.46</td>\n",
       "      <td>129</td>\n",
       "      <td>43.15</td>\n",
       "      <td>1.38</td>\n",
       "      <td>88.2</td>\n",
       "      <td>0.65</td>\n",
       "      <td>43.14</td>\n",
       "      <td>48.84</td>\n",
       "      <td>39</td>\n",
       "      <td>...</td>\n",
       "      <td>97</td>\n",
       "      <td>0.085</td>\n",
       "      <td>0.921</td>\n",
       "      <td>0.290</td>\n",
       "      <td>0.966</td>\n",
       "      <td>100</td>\n",
       "      <td>0</td>\n",
       "      <td>0</td>\n",
       "      <td>1637</td>\n",
       "      <td>1</td>\n",
       "    </tr>\n",
       "    <tr>\n",
       "      <th>2</th>\n",
       "      <td>66</td>\n",
       "      <td>44.41</td>\n",
       "      <td>156</td>\n",
       "      <td>44.61</td>\n",
       "      <td>0.40</td>\n",
       "      <td>83.0</td>\n",
       "      <td>0.48</td>\n",
       "      <td>44.70</td>\n",
       "      <td>49.92</td>\n",
       "      <td>66</td>\n",
       "      <td>...</td>\n",
       "      <td>9</td>\n",
       "      <td>0.268</td>\n",
       "      <td>0.263</td>\n",
       "      <td>0.640</td>\n",
       "      <td>0.692</td>\n",
       "      <td>100</td>\n",
       "      <td>0</td>\n",
       "      <td>0</td>\n",
       "      <td>1822</td>\n",
       "      <td>1</td>\n",
       "    </tr>\n",
       "    <tr>\n",
       "      <th>3</th>\n",
       "      <td>51</td>\n",
       "      <td>42.31</td>\n",
       "      <td>141</td>\n",
       "      <td>43.15</td>\n",
       "      <td>1.69</td>\n",
       "      <td>97.3</td>\n",
       "      <td>0.60</td>\n",
       "      <td>43.16</td>\n",
       "      <td>49.01</td>\n",
       "      <td>51</td>\n",
       "      <td>...</td>\n",
       "      <td>275</td>\n",
       "      <td>-0.281</td>\n",
       "      <td>3.396</td>\n",
       "      <td>1.419</td>\n",
       "      <td>3.680</td>\n",
       "      <td>100</td>\n",
       "      <td>0</td>\n",
       "      <td>29</td>\n",
       "      <td>2204</td>\n",
       "      <td>0</td>\n",
       "    </tr>\n",
       "    <tr>\n",
       "      <th>4</th>\n",
       "      <td>26</td>\n",
       "      <td>45.20</td>\n",
       "      <td>116</td>\n",
       "      <td>45.31</td>\n",
       "      <td>0.22</td>\n",
       "      <td>93.3</td>\n",
       "      <td>0.69</td>\n",
       "      <td>45.29</td>\n",
       "      <td>50.60</td>\n",
       "      <td>26</td>\n",
       "      <td>...</td>\n",
       "      <td>85</td>\n",
       "      <td>0.109</td>\n",
       "      <td>0.691</td>\n",
       "      <td>0.181</td>\n",
       "      <td>0.714</td>\n",
       "      <td>100</td>\n",
       "      <td>0</td>\n",
       "      <td>7</td>\n",
       "      <td>2203</td>\n",
       "      <td>1</td>\n",
       "    </tr>\n",
       "    <tr>\n",
       "      <th>5</th>\n",
       "      <td>68</td>\n",
       "      <td>42.51</td>\n",
       "      <td>158</td>\n",
       "      <td>52.74</td>\n",
       "      <td>20.47</td>\n",
       "      <td>95.5</td>\n",
       "      <td>0.25</td>\n",
       "      <td>49.96</td>\n",
       "      <td>70.17</td>\n",
       "      <td>68</td>\n",
       "      <td>...</td>\n",
       "      <td>45</td>\n",
       "      <td>-1.581</td>\n",
       "      <td>13.387</td>\n",
       "      <td>9.154</td>\n",
       "      <td>16.218</td>\n",
       "      <td>98</td>\n",
       "      <td>95</td>\n",
       "      <td>0</td>\n",
       "      <td>2399</td>\n",
       "      <td>1</td>\n",
       "    </tr>\n",
       "    <tr>\n",
       "      <th>6</th>\n",
       "      <td>85</td>\n",
       "      <td>42.86</td>\n",
       "      <td>175</td>\n",
       "      <td>43.54</td>\n",
       "      <td>1.37</td>\n",
       "      <td>96.7</td>\n",
       "      <td>0.43</td>\n",
       "      <td>43.55</td>\n",
       "      <td>49.27</td>\n",
       "      <td>85</td>\n",
       "      <td>...</td>\n",
       "      <td>88</td>\n",
       "      <td>0.105</td>\n",
       "      <td>0.398</td>\n",
       "      <td>0.376</td>\n",
       "      <td>0.548</td>\n",
       "      <td>100</td>\n",
       "      <td>0</td>\n",
       "      <td>0</td>\n",
       "      <td>2398</td>\n",
       "      <td>1</td>\n",
       "    </tr>\n",
       "    <tr>\n",
       "      <th>7</th>\n",
       "      <td>170</td>\n",
       "      <td>43.75</td>\n",
       "      <td>80</td>\n",
       "      <td>44.18</td>\n",
       "      <td>0.86</td>\n",
       "      <td>97.9</td>\n",
       "      <td>0.46</td>\n",
       "      <td>44.14</td>\n",
       "      <td>49.70</td>\n",
       "      <td>170</td>\n",
       "      <td>...</td>\n",
       "      <td>20</td>\n",
       "      <td>0.375</td>\n",
       "      <td>0.437</td>\n",
       "      <td>0.360</td>\n",
       "      <td>0.566</td>\n",
       "      <td>100</td>\n",
       "      <td>0</td>\n",
       "      <td>52</td>\n",
       "      <td>2592</td>\n",
       "      <td>1</td>\n",
       "    </tr>\n",
       "    <tr>\n",
       "      <th>8</th>\n",
       "      <td>174</td>\n",
       "      <td>43.03</td>\n",
       "      <td>84</td>\n",
       "      <td>43.58</td>\n",
       "      <td>1.10</td>\n",
       "      <td>97.2</td>\n",
       "      <td>0.46</td>\n",
       "      <td>43.52</td>\n",
       "      <td>49.16</td>\n",
       "      <td>174</td>\n",
       "      <td>...</td>\n",
       "      <td>229</td>\n",
       "      <td>0.353</td>\n",
       "      <td>0.371</td>\n",
       "      <td>0.485</td>\n",
       "      <td>0.611</td>\n",
       "      <td>100</td>\n",
       "      <td>0</td>\n",
       "      <td>63</td>\n",
       "      <td>2593</td>\n",
       "      <td>1</td>\n",
       "    </tr>\n",
       "    <tr>\n",
       "      <th>9</th>\n",
       "      <td>165</td>\n",
       "      <td>45.37</td>\n",
       "      <td>75</td>\n",
       "      <td>45.60</td>\n",
       "      <td>0.46</td>\n",
       "      <td>96.8</td>\n",
       "      <td>0.80</td>\n",
       "      <td>45.60</td>\n",
       "      <td>51.05</td>\n",
       "      <td>165</td>\n",
       "      <td>...</td>\n",
       "      <td>74</td>\n",
       "      <td>0.269</td>\n",
       "      <td>0.330</td>\n",
       "      <td>0.315</td>\n",
       "      <td>0.457</td>\n",
       "      <td>100</td>\n",
       "      <td>0</td>\n",
       "      <td>24</td>\n",
       "      <td>2968</td>\n",
       "      <td>1</td>\n",
       "    </tr>\n",
       "  </tbody>\n",
       "</table>\n",
       "<p>10 rows × 415 columns</p>\n",
       "</div>"
      ],
      "text/plain": [
       "   Ks.Axis     Kf  Kf.Axis   AvgK    CYL    AA  Ecc.9.0mm.   ACCP   Ks.1  \\\n",
       "0       21  39.22      111  41.87   5.32  86.7        0.91  41.67  49.61   \n",
       "1       39  42.46      129  43.15   1.38  88.2        0.65  43.14  48.84   \n",
       "2       66  44.41      156  44.61   0.40  83.0        0.48  44.70  49.92   \n",
       "3       51  42.31      141  43.15   1.69  97.3        0.60  43.16  49.01   \n",
       "4       26  45.20      116  45.31   0.22  93.3        0.69  45.29  50.60   \n",
       "5       68  42.51      158  52.74  20.47  95.5        0.25  49.96  70.17   \n",
       "6       85  42.86      175  43.54   1.37  96.7        0.43  43.55  49.27   \n",
       "7      170  43.75       80  44.18   0.86  97.9        0.46  44.14  49.70   \n",
       "8      174  43.03       84  43.58   1.10  97.2        0.46  43.52  49.16   \n",
       "9      165  45.37       75  45.60   0.46  96.8        0.80  45.60  51.05   \n",
       "\n",
       "   Ks.Axis.1  ...  coma.axis.5  SA.C40..5  S35.coma.like..5  S46.sph..like..5  \\\n",
       "0         21  ...           97     -0.722             3.350             1.053   \n",
       "1         39  ...           97      0.085             0.921             0.290   \n",
       "2         66  ...            9      0.268             0.263             0.640   \n",
       "3         51  ...          275     -0.281             3.396             1.419   \n",
       "4         26  ...           85      0.109             0.691             0.181   \n",
       "5         68  ...           45     -1.581            13.387             9.154   \n",
       "6         85  ...           88      0.105             0.398             0.376   \n",
       "7        170  ...           20      0.375             0.437             0.360   \n",
       "8        174  ...          229      0.353             0.371             0.485   \n",
       "9        165  ...           74      0.269             0.330             0.315   \n",
       "\n",
       "   HOAs.S3456..5  AA.5  ESI.Anterior.  ESI.Posterior.  idEye  labels  \n",
       "0          3.512    99             45              27   1638       0  \n",
       "1          0.966   100              0               0   1637       1  \n",
       "2          0.692   100              0               0   1822       1  \n",
       "3          3.680   100              0              29   2204       0  \n",
       "4          0.714   100              0               7   2203       1  \n",
       "5         16.218    98             95               0   2399       1  \n",
       "6          0.548   100              0               0   2398       1  \n",
       "7          0.566   100              0              52   2592       1  \n",
       "8          0.611   100              0              63   2593       1  \n",
       "9          0.457   100              0              24   2968       1  \n",
       "\n",
       "[10 rows x 415 columns]"
      ]
     },
     "execution_count": 95,
     "metadata": {},
     "output_type": "execute_result"
    }
   ],
   "source": [
    "X = data_le.iloc[:,2:] #creating input features\n",
    "full_data = X.copy()\n",
    "full_data['labels'] = y\n",
    "full_data.head(10)"
   ]
  },
  {
   "cell_type": "code",
   "execution_count": 96,
   "id": "d67d14c4",
   "metadata": {},
   "outputs": [
    {
     "name": "stderr",
     "output_type": "stream",
     "text": [
      "C:\\Users\\zahid\\AppData\\Local\\Temp\\ipykernel_23160\\3774559747.py:3: FutureWarning: Series.__getitem__ treating keys as positions is deprecated. In a future version, integer keys will always be treated as labels (consistent with DataFrame behavior). To access a value by position, use `ser.iloc[pos]`\n",
      "  importancia[indices]\n"
     ]
    },
    {
     "data": {
      "text/plain": [
       "X270deg      -0.569090\n",
       "Apex.3       -0.568029\n",
       "Apex         -0.568029\n",
       "X225deg      -0.562127\n",
       "X315deg      -0.551746\n",
       "                ...   \n",
       "Kf.1          0.325671\n",
       "Kf.4          0.325708\n",
       "Kf            0.325708\n",
       "Avg_H.5mm.    0.328171\n",
       "KCI           0.334041\n",
       "Length: 414, dtype: float64"
      ]
     },
     "execution_count": 96,
     "metadata": {},
     "output_type": "execute_result"
    }
   ],
   "source": [
    "importancia = full_data.drop('labels', axis=1).apply(lambda x: x.corr(full_data.labels))\n",
    "indices = np.argsort(importancia)\n",
    "importancia[indices]"
   ]
  },
  {
   "cell_type": "code",
   "execution_count": 97,
   "id": "9b98aa8f",
   "metadata": {},
   "outputs": [
    {
     "name": "stdout",
     "output_type": "stream",
     "text": [
      "['Kf', 'AvgK', 'Ecc.9.0mm.', 'ACCP', 'Ks.1', 'Kf.1', 'AvgK.1', 'Ecc.9.0mm..1', 'Kf.2', 'AvgK.2', 'AA.2', 'Ks.3', 'Kf.3', 'AvgK.3', 'AA.3', 'Apex', 'Thinnest', 'Spherical', 'Spherical.1', 'Spherical.2', 'Spherical.3', 'Spherical.4', 'HigherOrder.4', 'Spherical.5', 'HigherOrder.5', 'Spherical.6', 'Spherical.7', 'ApexK', 'Ks.0mm.', 'Kf.0mm.', 'AvgK.0mm.', 'OSI.9mm.', 'CSI', 'ACP.3mm.', 'ApexK.1', 'Kf.0mm..1', 'AvgK.0mm..1', 'CSI.1', 'ACP.3mm..1', 'ApexK.2', 'Ks.0mm..2', 'Kf.0mm..2', 'AvgK.0mm..2', 'CSI.2', 'ACP.3mm..2', 'Highest.0mm.3mm.', 'RMS_E.3mm.', 'RMS_E.4mm.', 'RMS_E.5mm.', 'RMS_E.6mm.', 'SR_E.4mm..1', 'Ecc.9mm.', 'Ecc.12mm.', 'Ecc.15mm.', 'Avg_H.5mm.', 'Avg_H.6mm.', 'Avg_H.7mm.', 'Avg_H.8mm.', 'Avg_H.9mm.', 'SR_H.3mm..1', 'SR_H.4mm..1', 'SR_H.5mm..1', 'SR_H.6mm..1', 'Avg_H.5mm..1', 'Avg_H.6mm..1', 'Avg_H.7mm..1', 'Avg_T.6mm.', 'Sph..Keratometric.', 'Sph..Posterior.', 'Hio..Posterior.', 'Thinnest.1', 'Score.Anterior.', 'Height.Avg..Angle0.360.Dia8.FlatRate0.', 'Ks.4', 'Kf.4', 'OSI', 'CSI.3', 'KCI', 'MaxElv', 'RangeElv', 'LabelNum', 'LabelNum.1', 'Apex.3', 'X0deg', 'X45deg', 'X90deg', 'X135deg', 'X180deg', 'X225deg', 'X270deg', 'X315deg', 'X0deg.1', 'X45deg.1', 'X90deg.1', 'X135deg.1', 'X180deg.1', 'BFS.3mm.', 'BFS.4mm.', 'BFS.5mm.', 'BFS.6mm.', 'BFS.7mm.', 'BFS.8mm.', 'BFS.1mm..1', 'SA.C40..1', 'SA.C40..3', 'SA.C40..5', 'ESI.Anterior.']\n"
     ]
    },
    {
     "name": "stderr",
     "output_type": "stream",
     "text": [
      "C:\\Users\\zahid\\AppData\\Local\\Temp\\ipykernel_23160\\238368736.py:6: FutureWarning: Series.__getitem__ treating keys as positions is deprecated. In a future version, integer keys will always be treated as labels (consistent with DataFrame behavior). To access a value by position, use `ser.iloc[pos]`\n",
      "  if np.abs(importancia[i])>0.2:\n"
     ]
    }
   ],
   "source": [
    "names=full_data.columns\n",
    "\n",
    "\n",
    "l=[]\n",
    "for i in range(0, len(indices)):\n",
    "    if np.abs(importancia[i])>0.2:\n",
    "        l.append(names[i])\n",
    "print(l)"
   ]
  },
  {
   "cell_type": "code",
   "execution_count": 98,
   "id": "9b282665",
   "metadata": {},
   "outputs": [
    {
     "data": {
      "text/html": [
       "<div>\n",
       "<style scoped>\n",
       "    .dataframe tbody tr th:only-of-type {\n",
       "        vertical-align: middle;\n",
       "    }\n",
       "\n",
       "    .dataframe tbody tr th {\n",
       "        vertical-align: top;\n",
       "    }\n",
       "\n",
       "    .dataframe thead th {\n",
       "        text-align: right;\n",
       "    }\n",
       "</style>\n",
       "<table border=\"1\" class=\"dataframe\">\n",
       "  <thead>\n",
       "    <tr style=\"text-align: right;\">\n",
       "      <th></th>\n",
       "      <th>Kf</th>\n",
       "      <th>AvgK</th>\n",
       "      <th>Ecc.9.0mm.</th>\n",
       "      <th>ACCP</th>\n",
       "      <th>Ks.1</th>\n",
       "      <th>Kf.1</th>\n",
       "      <th>AvgK.1</th>\n",
       "      <th>Ecc.9.0mm..1</th>\n",
       "      <th>Kf.2</th>\n",
       "      <th>AvgK.2</th>\n",
       "      <th>...</th>\n",
       "      <th>BFS.4mm.</th>\n",
       "      <th>BFS.5mm.</th>\n",
       "      <th>BFS.6mm.</th>\n",
       "      <th>BFS.7mm.</th>\n",
       "      <th>BFS.8mm.</th>\n",
       "      <th>BFS.1mm..1</th>\n",
       "      <th>SA.C40..1</th>\n",
       "      <th>SA.C40..3</th>\n",
       "      <th>SA.C40..5</th>\n",
       "      <th>ESI.Anterior.</th>\n",
       "    </tr>\n",
       "  </thead>\n",
       "  <tbody>\n",
       "    <tr>\n",
       "      <th>0</th>\n",
       "      <td>39.22</td>\n",
       "      <td>41.87</td>\n",
       "      <td>0.91</td>\n",
       "      <td>41.67</td>\n",
       "      <td>49.61</td>\n",
       "      <td>43.69</td>\n",
       "      <td>46.65</td>\n",
       "      <td>0.91</td>\n",
       "      <td>-6.88</td>\n",
       "      <td>-7.08</td>\n",
       "      <td>...</td>\n",
       "      <td>7.92</td>\n",
       "      <td>8.00</td>\n",
       "      <td>8.16</td>\n",
       "      <td>8.44</td>\n",
       "      <td>8.71</td>\n",
       "      <td>5.75</td>\n",
       "      <td>-0.893</td>\n",
       "      <td>0.117</td>\n",
       "      <td>-0.722</td>\n",
       "      <td>45</td>\n",
       "    </tr>\n",
       "    <tr>\n",
       "      <th>1</th>\n",
       "      <td>42.46</td>\n",
       "      <td>43.15</td>\n",
       "      <td>0.65</td>\n",
       "      <td>43.14</td>\n",
       "      <td>48.84</td>\n",
       "      <td>47.30</td>\n",
       "      <td>48.07</td>\n",
       "      <td>0.65</td>\n",
       "      <td>-5.96</td>\n",
       "      <td>-6.13</td>\n",
       "      <td>...</td>\n",
       "      <td>7.74</td>\n",
       "      <td>7.80</td>\n",
       "      <td>7.85</td>\n",
       "      <td>7.89</td>\n",
       "      <td>7.93</td>\n",
       "      <td>6.35</td>\n",
       "      <td>0.046</td>\n",
       "      <td>-0.042</td>\n",
       "      <td>0.085</td>\n",
       "      <td>0</td>\n",
       "    </tr>\n",
       "    <tr>\n",
       "      <th>2</th>\n",
       "      <td>44.41</td>\n",
       "      <td>44.61</td>\n",
       "      <td>0.48</td>\n",
       "      <td>44.70</td>\n",
       "      <td>49.92</td>\n",
       "      <td>49.47</td>\n",
       "      <td>49.70</td>\n",
       "      <td>0.48</td>\n",
       "      <td>-6.26</td>\n",
       "      <td>-6.40</td>\n",
       "      <td>...</td>\n",
       "      <td>7.45</td>\n",
       "      <td>7.53</td>\n",
       "      <td>7.57</td>\n",
       "      <td>7.58</td>\n",
       "      <td>7.61</td>\n",
       "      <td>6.17</td>\n",
       "      <td>0.252</td>\n",
       "      <td>-0.081</td>\n",
       "      <td>0.268</td>\n",
       "      <td>0</td>\n",
       "    </tr>\n",
       "    <tr>\n",
       "      <th>3</th>\n",
       "      <td>42.31</td>\n",
       "      <td>43.15</td>\n",
       "      <td>0.60</td>\n",
       "      <td>43.16</td>\n",
       "      <td>49.01</td>\n",
       "      <td>47.13</td>\n",
       "      <td>48.07</td>\n",
       "      <td>0.60</td>\n",
       "      <td>-6.99</td>\n",
       "      <td>-7.11</td>\n",
       "      <td>...</td>\n",
       "      <td>7.62</td>\n",
       "      <td>7.77</td>\n",
       "      <td>7.85</td>\n",
       "      <td>7.89</td>\n",
       "      <td>7.94</td>\n",
       "      <td>5.09</td>\n",
       "      <td>-0.159</td>\n",
       "      <td>-0.202</td>\n",
       "      <td>-0.281</td>\n",
       "      <td>0</td>\n",
       "    </tr>\n",
       "    <tr>\n",
       "      <th>4</th>\n",
       "      <td>45.20</td>\n",
       "      <td>45.31</td>\n",
       "      <td>0.69</td>\n",
       "      <td>45.29</td>\n",
       "      <td>50.60</td>\n",
       "      <td>50.36</td>\n",
       "      <td>50.48</td>\n",
       "      <td>0.69</td>\n",
       "      <td>-6.22</td>\n",
       "      <td>-6.33</td>\n",
       "      <td>...</td>\n",
       "      <td>7.39</td>\n",
       "      <td>7.43</td>\n",
       "      <td>7.48</td>\n",
       "      <td>7.52</td>\n",
       "      <td>7.58</td>\n",
       "      <td>6.11</td>\n",
       "      <td>0.097</td>\n",
       "      <td>-0.082</td>\n",
       "      <td>0.109</td>\n",
       "      <td>0</td>\n",
       "    </tr>\n",
       "    <tr>\n",
       "      <th>...</th>\n",
       "      <td>...</td>\n",
       "      <td>...</td>\n",
       "      <td>...</td>\n",
       "      <td>...</td>\n",
       "      <td>...</td>\n",
       "      <td>...</td>\n",
       "      <td>...</td>\n",
       "      <td>...</td>\n",
       "      <td>...</td>\n",
       "      <td>...</td>\n",
       "      <td>...</td>\n",
       "      <td>...</td>\n",
       "      <td>...</td>\n",
       "      <td>...</td>\n",
       "      <td>...</td>\n",
       "      <td>...</td>\n",
       "      <td>...</td>\n",
       "      <td>...</td>\n",
       "      <td>...</td>\n",
       "      <td>...</td>\n",
       "      <td>...</td>\n",
       "    </tr>\n",
       "    <tr>\n",
       "      <th>3157</th>\n",
       "      <td>45.79</td>\n",
       "      <td>46.19</td>\n",
       "      <td>0.75</td>\n",
       "      <td>46.18</td>\n",
       "      <td>51.91</td>\n",
       "      <td>51.01</td>\n",
       "      <td>51.46</td>\n",
       "      <td>0.75</td>\n",
       "      <td>-6.49</td>\n",
       "      <td>-6.64</td>\n",
       "      <td>...</td>\n",
       "      <td>7.25</td>\n",
       "      <td>7.29</td>\n",
       "      <td>7.34</td>\n",
       "      <td>7.40</td>\n",
       "      <td>7.47</td>\n",
       "      <td>5.43</td>\n",
       "      <td>0.068</td>\n",
       "      <td>0.009</td>\n",
       "      <td>0.164</td>\n",
       "      <td>0</td>\n",
       "    </tr>\n",
       "    <tr>\n",
       "      <th>3158</th>\n",
       "      <td>43.90</td>\n",
       "      <td>43.97</td>\n",
       "      <td>0.63</td>\n",
       "      <td>44.00</td>\n",
       "      <td>49.07</td>\n",
       "      <td>48.91</td>\n",
       "      <td>48.99</td>\n",
       "      <td>0.63</td>\n",
       "      <td>-6.05</td>\n",
       "      <td>-6.17</td>\n",
       "      <td>...</td>\n",
       "      <td>7.61</td>\n",
       "      <td>7.65</td>\n",
       "      <td>7.69</td>\n",
       "      <td>7.71</td>\n",
       "      <td>7.75</td>\n",
       "      <td>6.70</td>\n",
       "      <td>0.223</td>\n",
       "      <td>-0.063</td>\n",
       "      <td>0.242</td>\n",
       "      <td>0</td>\n",
       "    </tr>\n",
       "    <tr>\n",
       "      <th>3159</th>\n",
       "      <td>43.47</td>\n",
       "      <td>43.80</td>\n",
       "      <td>0.60</td>\n",
       "      <td>43.82</td>\n",
       "      <td>49.16</td>\n",
       "      <td>48.43</td>\n",
       "      <td>48.79</td>\n",
       "      <td>0.60</td>\n",
       "      <td>-5.99</td>\n",
       "      <td>-6.07</td>\n",
       "      <td>...</td>\n",
       "      <td>7.65</td>\n",
       "      <td>7.69</td>\n",
       "      <td>7.71</td>\n",
       "      <td>7.73</td>\n",
       "      <td>7.77</td>\n",
       "      <td>6.33</td>\n",
       "      <td>0.330</td>\n",
       "      <td>-0.061</td>\n",
       "      <td>0.348</td>\n",
       "      <td>0</td>\n",
       "    </tr>\n",
       "    <tr>\n",
       "      <th>3160</th>\n",
       "      <td>44.74</td>\n",
       "      <td>45.66</td>\n",
       "      <td>0.74</td>\n",
       "      <td>45.77</td>\n",
       "      <td>51.91</td>\n",
       "      <td>49.84</td>\n",
       "      <td>50.87</td>\n",
       "      <td>0.74</td>\n",
       "      <td>-6.23</td>\n",
       "      <td>-6.41</td>\n",
       "      <td>...</td>\n",
       "      <td>7.21</td>\n",
       "      <td>7.33</td>\n",
       "      <td>7.41</td>\n",
       "      <td>7.48</td>\n",
       "      <td>7.55</td>\n",
       "      <td>5.47</td>\n",
       "      <td>-0.085</td>\n",
       "      <td>-0.149</td>\n",
       "      <td>-0.124</td>\n",
       "      <td>0</td>\n",
       "    </tr>\n",
       "    <tr>\n",
       "      <th>3161</th>\n",
       "      <td>45.38</td>\n",
       "      <td>45.93</td>\n",
       "      <td>0.73</td>\n",
       "      <td>45.94</td>\n",
       "      <td>51.79</td>\n",
       "      <td>50.56</td>\n",
       "      <td>51.17</td>\n",
       "      <td>0.73</td>\n",
       "      <td>-6.24</td>\n",
       "      <td>-6.40</td>\n",
       "      <td>...</td>\n",
       "      <td>7.26</td>\n",
       "      <td>7.32</td>\n",
       "      <td>7.38</td>\n",
       "      <td>7.43</td>\n",
       "      <td>7.49</td>\n",
       "      <td>6.63</td>\n",
       "      <td>0.042</td>\n",
       "      <td>-0.150</td>\n",
       "      <td>0.001</td>\n",
       "      <td>0</td>\n",
       "    </tr>\n",
       "  </tbody>\n",
       "</table>\n",
       "<p>3162 rows × 107 columns</p>\n",
       "</div>"
      ],
      "text/plain": [
       "         Kf   AvgK  Ecc.9.0mm.   ACCP   Ks.1   Kf.1  AvgK.1  Ecc.9.0mm..1  \\\n",
       "0     39.22  41.87        0.91  41.67  49.61  43.69   46.65          0.91   \n",
       "1     42.46  43.15        0.65  43.14  48.84  47.30   48.07          0.65   \n",
       "2     44.41  44.61        0.48  44.70  49.92  49.47   49.70          0.48   \n",
       "3     42.31  43.15        0.60  43.16  49.01  47.13   48.07          0.60   \n",
       "4     45.20  45.31        0.69  45.29  50.60  50.36   50.48          0.69   \n",
       "...     ...    ...         ...    ...    ...    ...     ...           ...   \n",
       "3157  45.79  46.19        0.75  46.18  51.91  51.01   51.46          0.75   \n",
       "3158  43.90  43.97        0.63  44.00  49.07  48.91   48.99          0.63   \n",
       "3159  43.47  43.80        0.60  43.82  49.16  48.43   48.79          0.60   \n",
       "3160  44.74  45.66        0.74  45.77  51.91  49.84   50.87          0.74   \n",
       "3161  45.38  45.93        0.73  45.94  51.79  50.56   51.17          0.73   \n",
       "\n",
       "      Kf.2  AvgK.2  ...  BFS.4mm.  BFS.5mm.  BFS.6mm.  BFS.7mm.  BFS.8mm.  \\\n",
       "0    -6.88   -7.08  ...      7.92      8.00      8.16      8.44      8.71   \n",
       "1    -5.96   -6.13  ...      7.74      7.80      7.85      7.89      7.93   \n",
       "2    -6.26   -6.40  ...      7.45      7.53      7.57      7.58      7.61   \n",
       "3    -6.99   -7.11  ...      7.62      7.77      7.85      7.89      7.94   \n",
       "4    -6.22   -6.33  ...      7.39      7.43      7.48      7.52      7.58   \n",
       "...    ...     ...  ...       ...       ...       ...       ...       ...   \n",
       "3157 -6.49   -6.64  ...      7.25      7.29      7.34      7.40      7.47   \n",
       "3158 -6.05   -6.17  ...      7.61      7.65      7.69      7.71      7.75   \n",
       "3159 -5.99   -6.07  ...      7.65      7.69      7.71      7.73      7.77   \n",
       "3160 -6.23   -6.41  ...      7.21      7.33      7.41      7.48      7.55   \n",
       "3161 -6.24   -6.40  ...      7.26      7.32      7.38      7.43      7.49   \n",
       "\n",
       "      BFS.1mm..1  SA.C40..1  SA.C40..3  SA.C40..5  ESI.Anterior.  \n",
       "0           5.75     -0.893      0.117     -0.722             45  \n",
       "1           6.35      0.046     -0.042      0.085              0  \n",
       "2           6.17      0.252     -0.081      0.268              0  \n",
       "3           5.09     -0.159     -0.202     -0.281              0  \n",
       "4           6.11      0.097     -0.082      0.109              0  \n",
       "...          ...        ...        ...        ...            ...  \n",
       "3157        5.43      0.068      0.009      0.164              0  \n",
       "3158        6.70      0.223     -0.063      0.242              0  \n",
       "3159        6.33      0.330     -0.061      0.348              0  \n",
       "3160        5.47     -0.085     -0.149     -0.124              0  \n",
       "3161        6.63      0.042     -0.150      0.001              0  \n",
       "\n",
       "[3162 rows x 107 columns]"
      ]
     },
     "execution_count": 98,
     "metadata": {},
     "output_type": "execute_result"
    }
   ],
   "source": [
    "X = full_data[l]\n",
    "X"
   ]
  },
  {
   "cell_type": "code",
   "execution_count": 99,
   "id": "b0582309",
   "metadata": {},
   "outputs": [
    {
     "data": {
      "text/plain": [
       "array([0, 1, 1, ..., 1, 1, 1], shape=(3162,))"
      ]
     },
     "execution_count": 99,
     "metadata": {},
     "output_type": "execute_result"
    }
   ],
   "source": [
    "y"
   ]
  },
  {
   "cell_type": "code",
   "execution_count": 100,
   "id": "21c4065d",
   "metadata": {},
   "outputs": [],
   "source": [
    "X_train1, X_test1, y_train1, y_test1 = train_test_split(X ,y ,train_size=0.85, random_state=None)"
   ]
  },
  {
   "cell_type": "code",
   "execution_count": 101,
   "id": "e113f949",
   "metadata": {},
   "outputs": [
    {
     "name": "stdout",
     "output_type": "stream",
     "text": [
      "              precision    recall  f1-score   support\n",
      "\n",
      "           0       0.86      0.81      0.83        37\n",
      "           1       0.95      0.96      0.96       399\n",
      "           2       0.65      0.60      0.62        25\n",
      "           3       0.91      0.71      0.80        14\n",
      "\n",
      "    accuracy                           0.93       475\n",
      "   macro avg       0.84      0.77      0.80       475\n",
      "weighted avg       0.92      0.93      0.92       475\n",
      "\n"
     ]
    },
    {
     "data": {
      "image/png": "[encoded data removed]",
      "text/plain": [
       "<Figure size 640x480 with 2 Axes>"
      ]
     },
     "metadata": {},
     "output_type": "display_data"
    }
   ],
   "source": [
    "trainedforest1 = trainedforest.fit(X_train1,y_train1)\n",
    "\n",
    "predictionforest1 = trainedforest.predict(X_test1)\n",
    "\n",
    "sns.heatmap(confusion_matrix(y_test1, predictionforest1), annot = True, fmt = 'g')\n",
    "print(classification_report(y_test1, predictionforest1))"
   ]
  },
  {
   "cell_type": "code",
   "execution_count": 102,
   "id": "8ae27a8d",
   "metadata": {},
   "outputs": [
    {
     "name": "stdout",
     "output_type": "stream",
     "text": [
      "              precision    recall  f1-score   support\n",
      "\n",
      "           0       0.86      0.81      0.83        37\n",
      "           1       0.95      0.96      0.96       399\n",
      "           2       0.62      0.60      0.61        25\n",
      "           3       1.00      0.71      0.83        14\n",
      "\n",
      "    accuracy                           0.93       475\n",
      "   macro avg       0.86      0.77      0.81       475\n",
      "weighted avg       0.93      0.93      0.93       475\n",
      "\n"
     ]
    },
    {
     "data": {
      "image/png": "[encoded data removed]",
      "text/plain": [
       "<Figure size 640x480 with 2 Axes>"
      ]
     },
     "metadata": {},
     "output_type": "display_data"
    }
   ],
   "source": [
    "trainedforest1 = trainedforestRS.fit(X_train1,y_train1)\n",
    "\n",
    "predictionforest1 = trainedforestRS.predict(X_test1)\n",
    "\n",
    "sns.heatmap(confusion_matrix(y_test1, predictionforest1), annot = True, fmt = 'g')\n",
    "print(classification_report(y_test1, predictionforest1))"
   ]
  },
  {
   "cell_type": "code",
   "execution_count": 103,
   "id": "0e4a450b",
   "metadata": {},
   "outputs": [
    {
     "name": "stdout",
     "output_type": "stream",
     "text": [
      "              precision    recall  f1-score   support\n",
      "\n",
      "           0       0.85      0.89      0.87        37\n",
      "           1       0.96      0.96      0.96       399\n",
      "           2       0.61      0.56      0.58        25\n",
      "           3       0.92      0.79      0.85        14\n",
      "\n",
      "    accuracy                           0.93       475\n",
      "   macro avg       0.83      0.80      0.81       475\n",
      "weighted avg       0.93      0.93      0.93       475\n",
      "\n"
     ]
    },
    {
     "data": {
      "image/png": "[encoded data removed]",
      "text/plain": [
       "<Figure size 640x480 with 2 Axes>"
      ]
     },
     "metadata": {},
     "output_type": "display_data"
    }
   ],
   "source": [
    "trainedforest1 = trainedforestGS.fit(X_train1,y_train1)\n",
    "\n",
    "predictionforest1 = trainedforestGS.predict(X_test1)\n",
    "\n",
    "sns.heatmap(confusion_matrix(y_test1, predictionforest1), annot = True, fmt = 'g')\n",
    "print(classification_report(y_test1, predictionforest1))"
   ]
  },
  {
   "cell_type": "markdown",
   "id": "160f3a8b",
   "metadata": {},
   "source": [
    "### **Varios modelos**"
   ]
  },
  {
   "cell_type": "markdown",
   "id": "584dbcd2",
   "metadata": {},
   "source": [
    "#### **LogisticRegression**"
   ]
  },
  {
   "cell_type": "code",
   "execution_count": 104,
   "id": "7d83b285",
   "metadata": {},
   "outputs": [
    {
     "name": "stdout",
     "output_type": "stream",
     "text": [
      "Accuracy: 0.9304897314375987\n",
      "              precision    recall  f1-score   support\n",
      "\n",
      "           0       0.80      0.73      0.76        59\n",
      "           1       0.96      0.96      0.96       508\n",
      "           2       0.80      0.84      0.82        43\n",
      "           3       0.95      0.91      0.93        23\n",
      "\n",
      "    accuracy                           0.93       633\n",
      "   macro avg       0.88      0.86      0.87       633\n",
      "weighted avg       0.93      0.93      0.93       633\n",
      "\n"
     ]
    },
    {
     "data": {
      "text/plain": [
       "<Axes: >"
      ]
     },
     "execution_count": 104,
     "metadata": {},
     "output_type": "execute_result"
    },
    {
     "data": {
      "image/png": "[encoded data removed]",
      "text/plain": [
       "<Figure size 640x480 with 2 Axes>"
      ]
     },
     "metadata": {},
     "output_type": "display_data"
    }
   ],
   "source": [
    "from sklearn.linear_model import LogisticRegression\n",
    "\n",
    "modelo_lr = LogisticRegression(max_iter=500)\n",
    "modelo_lr.fit(X_train, y_train)\n",
    "\n",
    "y_pred_lr = modelo_lr.predict(X_test)\n",
    "print(\"Accuracy:\", accuracy_score(y_test, y_pred_lr))\n",
    "print(classification_report(y_test, y_pred_lr))\n",
    "\n",
    "sns.heatmap(confusion_matrix(y_test, y_pred_lr), annot = True, fmt = 'g')\n"
   ]
  },
  {
   "cell_type": "markdown",
   "id": "c9a283c8",
   "metadata": {},
   "source": [
    "#### **KNN**"
   ]
  },
  {
   "cell_type": "code",
   "execution_count": 105,
   "id": "bebd43e4",
   "metadata": {},
   "outputs": [
    {
     "name": "stdout",
     "output_type": "stream",
     "text": [
      "Accuracy: 0.9383886255924171\n",
      "              precision    recall  f1-score   support\n",
      "\n",
      "           0       0.94      0.78      0.85        59\n",
      "           1       0.94      0.99      0.96       508\n",
      "           2       1.00      0.49      0.66        43\n",
      "           3       0.96      0.96      0.96        23\n",
      "\n",
      "    accuracy                           0.94       633\n",
      "   macro avg       0.96      0.80      0.86       633\n",
      "weighted avg       0.94      0.94      0.93       633\n",
      "\n"
     ]
    },
    {
     "data": {
      "text/plain": [
       "<Axes: >"
      ]
     },
     "execution_count": 105,
     "metadata": {},
     "output_type": "execute_result"
    },
    {
     "data": {
      "image/png": "[encoded data removed]",
      "text/plain": [
       "<Figure size 640x480 with 2 Axes>"
      ]
     },
     "metadata": {},
     "output_type": "display_data"
    }
   ],
   "source": [
    "from sklearn.neighbors import KNeighborsClassifier\n",
    "\n",
    "modelo_knn = KNeighborsClassifier(n_neighbors=5)\n",
    "modelo_knn.fit(X_train, y_train)\n",
    "\n",
    "y_pred_knn = modelo_knn.predict(X_test)\n",
    "print(\"Accuracy:\", accuracy_score(y_test, y_pred_knn))\n",
    "print(classification_report(y_test, y_pred_knn))\n",
    "\n",
    "sns.heatmap(confusion_matrix(y_test, y_pred_knn), annot = True, fmt = 'g')"
   ]
  },
  {
   "cell_type": "markdown",
   "id": "91e10aa6",
   "metadata": {},
   "source": [
    "#### **SVC**"
   ]
  },
  {
   "cell_type": "code",
   "execution_count": 106,
   "id": "4c8f256f",
   "metadata": {},
   "outputs": [
    {
     "name": "stdout",
     "output_type": "stream",
     "text": [
      "Accuracy: 0.933649289099526\n",
      "              precision    recall  f1-score   support\n",
      "\n",
      "           0       0.91      0.83      0.87        59\n",
      "           1       0.94      0.98      0.96       508\n",
      "           2       0.87      0.47      0.61        43\n",
      "           3       1.00      0.96      0.98        23\n",
      "\n",
      "    accuracy                           0.93       633\n",
      "   macro avg       0.93      0.81      0.85       633\n",
      "weighted avg       0.93      0.93      0.93       633\n",
      "\n"
     ]
    },
    {
     "data": {
      "text/plain": [
       "<Axes: >"
      ]
     },
     "execution_count": 106,
     "metadata": {},
     "output_type": "execute_result"
    },
    {
     "data": {
      "image/png": "[encoded data removed]",
      "text/plain": [
       "<Figure size 640x480 with 2 Axes>"
      ]
     },
     "metadata": {},
     "output_type": "display_data"
    }
   ],
   "source": [
    "from sklearn.svm import SVC\n",
    "\n",
    "modelo_svc = SVC(kernel='poly')\n",
    "modelo_svc.fit(X_train, y_train)\n",
    "\n",
    "y_pred_svc = modelo_svc.predict(X_test)\n",
    "print(\"Accuracy:\", accuracy_score(y_test, y_pred_svc))\n",
    "print(classification_report(y_test, y_pred_svc))\n",
    "\n",
    "sns.heatmap(confusion_matrix(y_test, y_pred_svc), annot = True, fmt = 'g')"
   ]
  },
  {
   "cell_type": "markdown",
   "id": "8b2ddad6",
   "metadata": {},
   "source": [
    "#### **DecisionTree**"
   ]
  },
  {
   "cell_type": "code",
   "execution_count": 107,
   "id": "8e4aa5d7",
   "metadata": {},
   "outputs": [
    {
     "name": "stdout",
     "output_type": "stream",
     "text": [
      "Accuracy: 0.9178515007898894\n",
      "              precision    recall  f1-score   support\n",
      "\n",
      "           0       0.84      0.81      0.83        59\n",
      "           1       0.96      0.95      0.95       508\n",
      "           2       0.62      0.74      0.67        43\n",
      "           3       0.90      0.83      0.86        23\n",
      "\n",
      "    accuracy                           0.92       633\n",
      "   macro avg       0.83      0.83      0.83       633\n",
      "weighted avg       0.92      0.92      0.92       633\n",
      "\n"
     ]
    },
    {
     "data": {
      "text/plain": [
       "<Axes: >"
      ]
     },
     "execution_count": 107,
     "metadata": {},
     "output_type": "execute_result"
    },
    {
     "data": {
      "image/png": "[encoded data removed]",
      "text/plain": [
       "<Figure size 640x480 with 2 Axes>"
      ]
     },
     "metadata": {},
     "output_type": "display_data"
    }
   ],
   "source": [
    "from sklearn.tree import DecisionTreeClassifier\n",
    "\n",
    "modelo_tree = DecisionTreeClassifier(max_depth=15)\n",
    "modelo_tree.fit(X_train, y_train)\n",
    "\n",
    "y_pred_tree = modelo_tree.predict(X_test)\n",
    "print(\"Accuracy:\", accuracy_score(y_test, y_pred_tree))\n",
    "print(classification_report(y_test, y_pred_tree))\n",
    "\n",
    "sns.heatmap(confusion_matrix(y_test, y_pred_tree), annot = True, fmt = 'g')"
   ]
  },
  {
   "cell_type": "markdown",
   "id": "79b4916c",
   "metadata": {},
   "source": [
    "#### **NaiveBayes**"
   ]
  },
  {
   "cell_type": "code",
   "execution_count": 108,
   "id": "daba5b38",
   "metadata": {},
   "outputs": [
    {
     "name": "stdout",
     "output_type": "stream",
     "text": [
      "Accuracy: 0.7804107424960506\n",
      "              precision    recall  f1-score   support\n",
      "\n",
      "           0       0.65      0.93      0.76        59\n",
      "           1       0.98      0.75      0.85       508\n",
      "           2       0.28      0.91      0.43        43\n",
      "           3       0.95      0.91      0.93        23\n",
      "\n",
      "    accuracy                           0.78       633\n",
      "   macro avg       0.72      0.87      0.74       633\n",
      "weighted avg       0.90      0.78      0.81       633\n",
      "\n"
     ]
    },
    {
     "data": {
      "text/plain": [
       "<Axes: >"
      ]
     },
     "execution_count": 108,
     "metadata": {},
     "output_type": "execute_result"
    },
    {
     "data": {
      "image/png": "[encoded data removed]",
      "text/plain": [
       "<Figure size 640x480 with 2 Axes>"
      ]
     },
     "metadata": {},
     "output_type": "display_data"
    }
   ],
   "source": [
    "from sklearn.naive_bayes import GaussianNB\n",
    "\n",
    "modelo_nb = GaussianNB()\n",
    "modelo_nb.fit(X_train, y_train)\n",
    "\n",
    "y_pred_nb = modelo_nb.predict(X_test)\n",
    "print(\"Accuracy:\", accuracy_score(y_test, y_pred_nb))\n",
    "print(classification_report(y_test, y_pred_nb))\n",
    "\n",
    "sns.heatmap(confusion_matrix(y_test, y_pred_nb), annot = True, fmt = 'g')"
   ]
  },
  {
   "cell_type": "markdown",
   "id": "71d5cd4c",
   "metadata": {},
   "source": [
    "#### **GradientBoosting**"
   ]
  },
  {
   "cell_type": "code",
   "execution_count": 111,
   "id": "b0fdbc6b",
   "metadata": {},
   "outputs": [
    {
     "name": "stdout",
     "output_type": "stream",
     "text": [
      "Accuracy: 0.9510268562401264\n",
      "              precision    recall  f1-score   support\n",
      "\n",
      "           0       0.88      0.83      0.85        59\n",
      "           1       0.97      0.97      0.97       508\n",
      "           2       0.83      0.88      0.85        43\n",
      "           3       1.00      0.87      0.93        23\n",
      "\n",
      "    accuracy                           0.95       633\n",
      "   macro avg       0.92      0.89      0.90       633\n",
      "weighted avg       0.95      0.95      0.95       633\n",
      "\n"
     ]
    },
    {
     "data": {
      "text/plain": [
       "<Axes: >"
      ]
     },
     "execution_count": 111,
     "metadata": {},
     "output_type": "execute_result"
    },
    {
     "data": {
      "image/png": "[encoded data removed]",
      "text/plain": [
       "<Figure size 640x480 with 2 Axes>"
      ]
     },
     "metadata": {},
     "output_type": "display_data"
    }
   ],
   "source": [
    "from sklearn.ensemble import GradientBoostingClassifier\n",
    "\n",
    "modelo_gb = GradientBoostingClassifier(n_estimators=150)\n",
    "modelo_gb.fit(X_train, y_train)\n",
    "y_pred_gb = modelo_gb.predict(X_test)\n",
    "\n",
    "print(\"Accuracy:\", accuracy_score(y_test, y_pred_gb))\n",
    "print(classification_report(y_test, y_pred_gb))\n",
    "\n",
    "sns.heatmap(confusion_matrix(y_test, y_pred_gb), annot = True, fmt = 'g')"
   ]
  },
  {
   "cell_type": "markdown",
   "id": "7084b229",
   "metadata": {},
   "source": [
    "#### **NeuralNetwork**"
   ]
  },
  {
   "cell_type": "code",
   "execution_count": 124,
   "id": "65b53462",
   "metadata": {},
   "outputs": [
    {
     "name": "stdout",
     "output_type": "stream",
     "text": [
      "Accuracy: 0.9605055292259084\n",
      "              precision    recall  f1-score   support\n",
      "\n",
      "           0       0.88      0.83      0.85        59\n",
      "           1       0.97      0.98      0.98       508\n",
      "           2       0.95      0.86      0.90        43\n",
      "           3       0.96      0.96      0.96        23\n",
      "\n",
      "    accuracy                           0.96       633\n",
      "   macro avg       0.94      0.91      0.92       633\n",
      "weighted avg       0.96      0.96      0.96       633\n",
      "\n"
     ]
    },
    {
     "name": "stderr",
     "output_type": "stream",
     "text": [
      "c:\\Users\\zahid\\Escritorio\\ProyectoTSBM\\.venv\\Lib\\site-packages\\sklearn\\neural_network\\_multilayer_perceptron.py:691: ConvergenceWarning: Stochastic Optimizer: Maximum iterations (200) reached and the optimization hasn't converged yet.\n",
      "  warnings.warn(\n"
     ]
    },
    {
     "data": {
      "text/plain": [
       "<Axes: >"
      ]
     },
     "execution_count": 124,
     "metadata": {},
     "output_type": "execute_result"
    },
    {
     "data": {
      "image/png": "[encoded data removed]",
      "text/plain": [
       "<Figure size 640x480 with 2 Axes>"
      ]
     },
     "metadata": {},
     "output_type": "display_data"
    }
   ],
   "source": [
    "from sklearn.neural_network import MLPClassifier\n",
    "\n",
    "modelo_mlp = MLPClassifier(solver = 'sgd',\n",
    "                           activation='relu', \n",
    "                           alpha = 1e-5, \n",
    "                           hidden_layer_sizes = (350,), \n",
    "                           learning_rate = 'adaptive')\n",
    "modelo_mlp.fit(X_train, y_train)\n",
    "y_pred_mlp = modelo_mlp.predict(X_test)\n",
    "\n",
    "print(\"Accuracy:\", accuracy_score(y_test, y_pred_mlp))\n",
    "print(classification_report(y_test, y_pred_mlp))\n",
    "\n",
    "sns.heatmap(confusion_matrix(y_test, y_pred_mlp), annot = True, fmt = 'g')\n"
   ]
  }
 ],
 "metadata": {
  "kernelspec": {
   "display_name": ".venv",
   "language": "python",
   "name": "python3"
  },
  "language_info": {
   "name": "python",
   "version": "3.13.2"
  }
 },
 "nbformat": 4,
 "nbformat_minor": 5
}
