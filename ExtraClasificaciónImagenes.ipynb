{
 "cells": [
  {
   "cell_type": "code",
   "execution_count": 1,
   "id": "0e7e2838",
   "metadata": {},
   "outputs": [],
   "source": [
    "# librerias\n",
    "import matplotlib.pyplot as plt\n",
    "import seaborn as sns\n",
    "import pandas as pd\n",
    "import os\n",
    "from PIL import Image"
   ]
  },
  {
   "cell_type": "code",
   "execution_count": 2,
   "id": "25dc04e2",
   "metadata": {},
   "outputs": [
    {
     "data": {
      "image/png": "[encoded data removed]",
      "text/plain": [
       "<Figure size 800x600 with 1 Axes>"
      ]
     },
     "metadata": {},
     "output_type": "display_data"
    }
   ],
   "source": [
    "base_dir = r\"Datos\\Independent Test Set\"\n",
    "\n",
    "#creamos una lista que nos permitirá ver la cantidad de imágenes por cada categoría\n",
    "num_images_per_category = []\n",
    "\n",
    "#Obtenemos la cantidad de impagenes que hay en cada una de las categorías, las cuales están como folders y vamos iterando para ver la cantidad por folder\n",
    "folders = [\"Keratoconus\", \"Normal\", \"Suspect\"]\n",
    "for folder in folders:\n",
    "    folder_path = os.path.join(base_dir, folder)\n",
    "    num_images = len(os.listdir(folder_path))\n",
    "    num_images_per_category.append(num_images)\n",
    "\n",
    "#Etiquetas para las categorías, las cuales son las 4 que ya se mencionaron\n",
    "labels =  [\"Keratoconus\", \"Normal\", \"Suspect\"]\n",
    "\n",
    "#gráfica de distribución para ver la cantidad\n",
    "plt.figure(figsize=(8, 6))\n",
    "plt.bar(labels, num_images_per_category, color='skyblue')\n",
    "plt.xlabel('Categoría')\n",
    "plt.ylabel('Número de imágenes')\n",
    "plt.title('Distribución de imágenes por categoría')\n",
    "plt.show()"
   ]
  },
  {
   "cell_type": "code",
   "execution_count": 3,
   "id": "cab09a26",
   "metadata": {},
   "outputs": [
    {
     "name": "stdout",
     "output_type": "stream",
     "text": [
      "Número de imágenes en 'Keratoconus': 50\n",
      "Número de imágenes en 'Normal': 50\n",
      "Número de imágenes en 'Suspect': 50\n"
     ]
    }
   ],
   "source": [
    "for folder in folders:\n",
    "    folder_path = os.path.join(base_dir, folder)\n",
    "    num_images = len(os.listdir(folder_path))\n",
    "    print(f\"Número de imágenes en '{folder}':\", num_images)"
   ]
  },
  {
   "cell_type": "code",
   "execution_count": 6,
   "id": "442db6c0",
   "metadata": {},
   "outputs": [
    {
     "ename": "PermissionError",
     "evalue": "[Errno 13] Permission denied: 'Datos\\\\Independent Test Set\\\\Keratoconus\\\\case1'",
     "output_type": "error",
     "traceback": [
      "\u001b[31m---------------------------------------------------------------------------\u001b[39m",
      "\u001b[31mPermissionError\u001b[39m                           Traceback (most recent call last)",
      "\u001b[36mCell\u001b[39m\u001b[36m \u001b[39m\u001b[32mIn[6]\u001b[39m\u001b[32m, line 13\u001b[39m\n\u001b[32m     11\u001b[39m image_path = os.path.join(folder_path, image_name)\n\u001b[32m     12\u001b[39m \u001b[38;5;66;03m#una vez que se tenga una imgaen, calculamos el largo y ancho y lo agregamos a la lista creada arriba\u001b[39;00m\n\u001b[32m---> \u001b[39m\u001b[32m13\u001b[39m \u001b[38;5;28;01mwith\u001b[39;00m \u001b[43mImage\u001b[49m\u001b[43m.\u001b[49m\u001b[43mopen\u001b[49m\u001b[43m(\u001b[49m\u001b[43mimage_path\u001b[49m\u001b[43m)\u001b[49m \u001b[38;5;28;01mas\u001b[39;00m img:\n\u001b[32m     14\u001b[39m     width, height = img.size\n\u001b[32m     15\u001b[39m     image_sizes.append((width, height))\n",
      "\u001b[36mFile \u001b[39m\u001b[32mc:\\Users\\zahid\\Escritorio\\ProyectoTSBM\\.venv\\Lib\\site-packages\\PIL\\Image.py:3465\u001b[39m, in \u001b[36mopen\u001b[39m\u001b[34m(fp, mode, formats)\u001b[39m\n\u001b[32m   3462\u001b[39m     filename = os.fspath(fp)\n\u001b[32m   3464\u001b[39m \u001b[38;5;28;01mif\u001b[39;00m filename:\n\u001b[32m-> \u001b[39m\u001b[32m3465\u001b[39m     fp = \u001b[43mbuiltins\u001b[49m\u001b[43m.\u001b[49m\u001b[43mopen\u001b[49m\u001b[43m(\u001b[49m\u001b[43mfilename\u001b[49m\u001b[43m,\u001b[49m\u001b[43m \u001b[49m\u001b[33;43m\"\u001b[39;49m\u001b[33;43mrb\u001b[39;49m\u001b[33;43m\"\u001b[39;49m\u001b[43m)\u001b[49m\n\u001b[32m   3466\u001b[39m     exclusive_fp = \u001b[38;5;28;01mTrue\u001b[39;00m\n\u001b[32m   3467\u001b[39m \u001b[38;5;28;01melse\u001b[39;00m:\n",
      "\u001b[31mPermissionError\u001b[39m: [Errno 13] Permission denied: 'Datos\\\\Independent Test Set\\\\Keratoconus\\\\case1'"
     ]
    }
   ],
   "source": [
    "#Creamos una lista donde se va a estar almacenando el tamaño de las imágenes, es decir, largo y ancho\n",
    "image_sizes = []\n",
    "\n",
    "\n",
    "#vamos a hacer primero una iteración en cada folder, de nuevo\n",
    "for folder in folders:\n",
    "    folder_path = os.path.join(base_dir, folder)\n",
    "    #y ahora vamos a iterar en cada imagen de cada folder, obteniendo la dirección del folder y el nombre de la imágen, realmente el nombre no es muy útil\n",
    "    #pero la función necesitaba dos parámetros y ps colocamos este para no tener problemas xd\n",
    "    for image_name in os.listdir(folder_path):\n",
    "        image_path = os.path.join(folder_path, image_name)\n",
    "        #una vez que se tenga una imgaen, calculamos el largo y ancho y lo agregamos a la lista creada arriba\n",
    "        with Image.open(image_path) as img:\n",
    "            width, height = img.size\n",
    "            image_sizes.append((width, height))\n",
    "\n",
    "#Separar los tamaños de ancho y largo, la primera entrada es el ancho de la imagen y la segunda entrada el alto\n",
    "widths = [size[0] for size in image_sizes]\n",
    "heights = [size[1] for size in image_sizes]\n",
    "\n",
    "#para poder ver si hay diferencias entre los tamaños, hacemos una gráfica que nos muestre todos los tamaños de todas las imágenes, pequeño spoiler de nuevo, todas son\n",
    "#el mismo tamaño, es una muy buena base para empezar\n",
    "plt.figure(figsize=(10, 6))\n",
    "plt.scatter(widths, heights, color='skyblue', alpha=0.5)\n",
    "plt.title('Tamaño de todas las imágenes')\n",
    "plt.xlabel('Ancho (píxeles)')\n",
    "plt.ylabel('Alto (píxeles)')\n",
    "plt.grid(True)\n",
    "plt.show()"
   ]
  }
 ],
 "metadata": {
  "kernelspec": {
   "display_name": ".venv",
   "language": "python",
   "name": "python3"
  },
  "language_info": {
   "codemirror_mode": {
    "name": "ipython",
    "version": 3
   },
   "file_extension": ".py",
   "mimetype": "text/x-python",
   "name": "python",
   "nbconvert_exporter": "python",
   "pygments_lexer": "ipython3",
   "version": "3.13.2"
  }
 },
 "nbformat": 4,
 "nbformat_minor": 5
}
